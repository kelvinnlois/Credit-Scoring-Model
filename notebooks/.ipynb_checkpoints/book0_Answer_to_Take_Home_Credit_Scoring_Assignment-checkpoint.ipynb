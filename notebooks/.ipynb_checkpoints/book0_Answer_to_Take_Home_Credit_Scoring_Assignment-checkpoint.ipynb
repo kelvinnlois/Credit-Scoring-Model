{
 "cells": [
  {
   "cell_type": "markdown",
   "id": "e49a2924-15ba-4987-b95e-2505914e23fe",
   "metadata": {},
   "source": [
    "## Aswer to Take Home Credit Scoring Assignment \n",
    "Name : Kelvin Lois\n"
   ]
  },
  {
   "cell_type": "markdown",
   "id": "cc279827-414b-4296-ae81-5721a029cb42",
   "metadata": {},
   "source": [
    "#### Short Answer Portion \n",
    "1. Management is thinking of launching an instalment payment financial product for people who would like to purchase a more expensive product and pay it in equal instalment payments over a period of 12/18/24 months. \n",
    "    - Q1.1 __How would you model the risk of each user when no historical credit data is available on that user for month 0?__\n",
    "        - Answer : When historical credit data is not available, we can use socio-demographic factors of the applicants (such as gender, education level, proximity towards bank X branches, marital status, age, occupation, working period with the last and current employer, loan period and so on) to build a statistical models or maybe by subjective method/scoring which relies on the knowledge of experienced credit professionals, if the data for these new applicants is not too many. Another alternative is by using external bureau data to develop a credit scoring model for these users.\n",
    "    - Q1.2 __How would you model the risk of each user when first/second/third month repayment data is available?__ \n",
    "        - Answer : Since historical repayment data is available, we can use this data along with the socio-demographic data to build a statistical machine learning model for credit scoring. This method is preffered since it is unbiased, faster (for a large amount of data), statitically valid and can be reevaluated for statistical soundness from time to time and adjusted, as necessary, to maintain or increase its predictive power to avoid degradation due to data drift.\n",
    "        \n",
    "2. Management noticed that the output of your risk model (range from 0-1 for probability of default) is different from the actual default rates. For example, users with the risk score of 0.1 and below default at 20% rate and users with the risk score 0.9 and above default 60% of the time.  \n",
    "    - Q2.1 __How would you align the output of your credit scoring model with the actual default rates?__ \n",
    "        - Answer : From the output of the model, that is the probablity of default, we can actually compute the expected (or predicted) default rate of the new dataset given a certain probability threshold. This practice is shown in _setting cut-off_ section in `book3_ml_modeling_credit_ds_v3.ipynb` (cell 41). So after knowing the expected default rate we can now compare it with the actual default rate. Or we can compare the chosen metric for our case that related to default rate (for example recall or precision). \n",
    "    - Q2.2 __How would you account for the month on month variability in default rates?__\n",
    "        - Answer : The default rates may vary from month to month due to the change of data the distribution for example. If the population of the new applicants is too different from the population of the data used to train the model, the model may not work very well anymore.  In such cases, we need to redevelop the model. To measure whether of not our train data is diffrent than the new data we can use the Population Stability Index (PSI). The main goal of the Population Stability Index is to determine whether the new data are too different from the original ones. We know that each feature already turned into categorical feature with k number of categories by doing coarse and fine classing to the original feature (see `book2_prepr_credit_ds_v3.ipynb`). Both populations (trained and new populations) are distributed in some way across the categories of the feature, we can use the information about these distributions to assess if the populations differ by computing the PSI for this feature as equation below. If for some feature, the PSI value is larger than 0.25, we then most likely have to rebuild the model.\n",
    "        $$\n",
    "        \\text{PSI for feature X} = \\sum_{j=1}^{k} \\Big[ (\\%\\text{trained}_j - \\%\\text{new}_j) \\times \\ln \\frac{\\%\\text{trained}_j}{\\%\\text{new}_j} \\Big], \\, k = \\text{number of categories of X}\n",
    "        $$\n",
    "| Value of PSI (0-1)                 | Population Difference                                             |\n",
    "|------------------------------------|---------------------------------------------------------|\n",
    "| PSI = 0                            | No difference                                           |\n",
    "| 0< PSI <0.1                        | Little to no difference                                 |\n",
    "| 0.1< PSI <0.25                     | Little difference (no action taken)                     |\n",
    "| PSI>0.25                           | Big difference (Action is taken)                        |\n",
    "\n",
    "\n",
    "\n",
    "3. Management is thinking of using individual product pricing on per user basis. \n",
    "    - Q3.1 __How would you design data collection to ensure that you can build a machine learning model on top of that?__ \n",
    "        - Answer : \n",
    "    - Q3.2 __Which model would you use and why to model the adoption probability for each user?__ \n",
    "        - Answer : \n",
    "    - Q3.3 __How would you account for and present the probability of adoption vs. profitability from pricing tradeoff?__ \n",
    "        - Answer : \n",
    " \n"
   ]
  },
  {
   "cell_type": "markdown",
   "id": "84e427a5-c1ec-4549-940e-dd65323344d3",
   "metadata": {},
   "source": [
    "#### Coding Assignment Portion \n",
    "1. The upper management wants the overall default rate of their portfolio to be below 2.5%, please provide recommendation on the optimal credit score cutoff rate. \n",
    "    - Answer : Answered in the _setting cut-off_ section in `book3_ml_modeling_credit_ds_v3.ipynb` notebook. The optimal credit score cutoff chosen to be 592. \n",
    "2. Please create a credit score for each individual, validate your solution, and provide guidance on the next steps. \n",
    "    - Answer : Answered in the _Calculating Credit Scores_ section in `book3_ml_modeling_credit_ds_v3.ipynb` notebook.\n",
    "3. Please create deciles by credit score and provide risk and default levels by deciles (by decile and cumulative). Bonus if you can provide confidence (or methodology how you would do it) for your scores/default rates by bin. \n",
    "    - Answer : I don't know where to start. Sorry.\n",
    " \n"
   ]
  },
  {
   "cell_type": "markdown",
   "id": "eb2bd384-fe2f-4f73-9bd0-65889692664f",
   "metadata": {},
   "source": [
    "### References\n",
    "- For coding assignment and some basic introduction to credit scoring modeling : https://www.udemy.com/course/credit-risk-modeling-in-python/\n",
    "- For short answer assignment,\n",
    "    - https://www.cgap.org/sites/default/files/publications/2019_07_Technical_Guide_CreditScore.pdf\n",
    "    - https://ijbssnet.com/journals/Vol_3_No_17_September_2012/17.pdf\n",
    "    - https://www.listendata.com/2019/08/credit-risk-modelling.html\n",
    "    - https://citeseerx.ist.psu.edu/viewdoc/download?doi=10.1.1.1024.2660&rep=rep1&type=pdf\n",
    "    "
   ]
  }
 ],
 "metadata": {
  "kernelspec": {
   "display_name": "Python 3",
   "language": "python",
   "name": "python3"
  },
  "language_info": {
   "codemirror_mode": {
    "name": "ipython",
    "version": 3
   },
   "file_extension": ".py",
   "mimetype": "text/x-python",
   "name": "python",
   "nbconvert_exporter": "python",
   "pygments_lexer": "ipython3",
   "version": "3.8.5"
  }
 },
 "nbformat": 4,
 "nbformat_minor": 5
}
